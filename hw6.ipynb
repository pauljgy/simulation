{
 "cells": [
  {
   "cell_type": "code",
   "execution_count": 3,
   "metadata": {},
   "outputs": [],
   "source": [
    "import numpy as np\n",
    "import matplotlib.pyplot as plt\n",
    "N = 1000"
   ]
  },
  {
   "cell_type": "code",
   "execution_count": 4,
   "metadata": {},
   "outputs": [],
   "source": [
    "def analyze(data):\n",
    "    n = len(data)\n",
    "    mean = np.mean(data)\n",
    "\n",
    "    tss = np.sum(np.power(np.subtract(data, mean), 2))\n",
    "    s2 = tss*(1/(n-1))\n",
    "    s = np.sqrt(s2)\n",
    "\n",
    "    left = mean - 1.96*(s/np.sqrt(n))\n",
    "    right = mean + 1.96*(s/np.sqrt(n))\n",
    "\n",
    "    return [mean, left, right]"
   ]
  },
  {
   "cell_type": "code",
   "execution_count": 5,
   "metadata": {},
   "outputs": [
    {
     "name": "stdout",
     "output_type": "stream",
     "text": [
      "[6.363769248734225, 6.155666892397003, 6.571871605071447]\n"
     ]
    }
   ],
   "source": [
    "# 1a\n",
    "result = np.zeros(N)\n",
    "\n",
    "for i in range(N):\n",
    "    u = np.random.uniform(0, 1)\n",
    "    t = np.exp(np.exp(u))\n",
    "    result[i] = t\n",
    "\n",
    "output = analyze(result)\n",
    "print(output)"
   ]
  },
  {
   "cell_type": "code",
   "execution_count": 6,
   "metadata": {},
   "outputs": [
    {
     "name": "stdout",
     "output_type": "stream",
     "text": [
      "102.20452642843648\n",
      "85.96944231866951\n",
      "118.43961053820345\n"
     ]
    }
   ],
   "source": [
    "# 1b\n",
    "result = np.zeros(N)\n",
    "\n",
    "for i in range(N):\n",
    "    u = np.random.uniform(-2, 2)\n",
    "    t = np.exp(u + u**2)\n",
    "    result[i] = t\n",
    "\n",
    "output = analyze(result)\n",
    "print(output[0] * 4)\n",
    "print(output[1] * 4)\n",
    "print(output[2] * 4)\n",
    "# multiply by (b-a) to get the final result"
   ]
  },
  {
   "cell_type": "code",
   "execution_count": 7,
   "metadata": {},
   "outputs": [
    {
     "name": "stdout",
     "output_type": "stream",
     "text": [
      "[0.5041130684153925, 0.4835299488555143, 0.5246961879752707]\n"
     ]
    }
   ],
   "source": [
    "# 1c\n",
    "result = np.zeros(N)\n",
    "\n",
    "for i in range(N):\n",
    "    u = np.random.uniform(0, 1)\n",
    "    t = (1/u - 1)/((1 + (1/u - 1)**2)**2) * (1/(u**2))\n",
    "    result[i] = t\n",
    "\n",
    "output = analyze(result)\n",
    "print(output)"
   ]
  },
  {
   "cell_type": "code",
   "execution_count": 8,
   "metadata": {},
   "outputs": [
    {
     "name": "stdout",
     "output_type": "stream",
     "text": [
      "[0.1705650513550202, 0.14845286292024967, 0.19267723978979073]\n"
     ]
    }
   ],
   "source": [
    "# 1d\n",
    "result = np.zeros(N)\n",
    "\n",
    "for i in range(N):\n",
    "    x = np.random.exponential(1)\n",
    "    y = np.random.exponential(1)\n",
    "    \n",
    "    temp = np.sin(x*y) if (y < x**2) else 0\n",
    "    \n",
    "    result[i] = temp\n",
    "\n",
    "output = analyze(result)\n",
    "print(output)"
   ]
  },
  {
   "cell_type": "code",
   "execution_count": 9,
   "metadata": {},
   "outputs": [
    {
     "name": "stdout",
     "output_type": "stream",
     "text": [
      "point estimate:  0.1394785928861039\n"
     ]
    }
   ],
   "source": [
    "# 2a, cov(u, e^u)\n",
    "\n",
    "result = np.zeros(N)\n",
    "\n",
    "for i in range(N):\n",
    "    u = np.random.uniform(0, 1)\n",
    "    result[i] = u\n",
    "\n",
    "mean = np.mean(result)\n",
    "h = np.exp(result)\n",
    "\n",
    "diffg = np.subtract(result, mean)\n",
    "diffh = np.subtract(h, np.mean(h))\n",
    "\n",
    "cov = 1/N * (np.sum(np.multiply(diffg, diffh)))\n",
    "print(\"point estimate: \", cov)"
   ]
  },
  {
   "cell_type": "code",
   "execution_count": 10,
   "metadata": {},
   "outputs": [
    {
     "name": "stdout",
     "output_type": "stream",
     "text": [
      "-0.9224895877988587\n"
     ]
    }
   ],
   "source": [
    "# 2b, corr(u, sqrt(1-u^2))\n",
    "\n",
    "result = np.zeros(N)\n",
    "\n",
    "for i in range(N):\n",
    "    u = np.random.uniform(0, 1)\n",
    "    result[i] = u\n",
    "\n",
    "mean = np.mean(result)\n",
    "h = np.sqrt(np.subtract(1, np.power(result, 2)))\n",
    "\n",
    "diffg = np.subtract(result, mean)\n",
    "diffh = np.subtract(h, np.mean(h))\n",
    "\n",
    "cov = 1/N * (np.sum(np.multiply(diffg, diffh)))\n",
    "\n",
    "\n",
    "s2g = np.sum(np.power(np.subtract(result, mean), 2))*(1/(N-1))\n",
    "s2h = np.sum(np.power(np.subtract(h, np.mean(h)), 2))*(1/(N-1))\n",
    "\n",
    "corr = cov/np.sqrt(s2g*s2h)\n",
    "print(corr)"
   ]
  }
 ],
 "metadata": {
  "kernelspec": {
   "display_name": "base",
   "language": "python",
   "name": "python3"
  },
  "language_info": {
   "codemirror_mode": {
    "name": "ipython",
    "version": 3
   },
   "file_extension": ".py",
   "mimetype": "text/x-python",
   "name": "python",
   "nbconvert_exporter": "python",
   "pygments_lexer": "ipython3",
   "version": "3.12.4"
  }
 },
 "nbformat": 4,
 "nbformat_minor": 2
}
