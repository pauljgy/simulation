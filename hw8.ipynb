{
 "cells": [
  {
   "cell_type": "code",
   "execution_count": 80,
   "id": "fc2233ed",
   "metadata": {},
   "outputs": [],
   "source": [
    "import numpy as np\n",
    "import matplotlib.pyplot as plt"
   ]
  },
  {
   "cell_type": "code",
   "execution_count": 81,
   "id": "8263c5c9",
   "metadata": {},
   "outputs": [],
   "source": [
    "#1A\n",
    "N = 10000 # TIME STEPS\n",
    "M = 100 # BURN-IN\n",
    "\n",
    "def f(array):\n",
    "    value = np.zeros(10)\n",
    "    for j in range(10):\n",
    "        value[j] = np.exp(-array[j]) if array[j] > 0 else 0\n",
    "    return np.prod(value)\n",
    "\n",
    "product = np.zeros(N)\n",
    "#x1 = np.zeros(N)\n",
    "x1con = []\n",
    "\n",
    "x = np.zeros((2, 10))\n",
    "x[0] = np.array([np.power(21, 1/10) for i in range(10)])\n",
    "\n",
    "product[0] = np.prod(x[0])\n",
    "#x1[0] = x[0][0]\n",
    "\n",
    "for i in range(1, N):\n",
    "\n",
    "    # generate new state\n",
    "    for j in range(10):\n",
    "        x[1][j] = np.random.uniform(x[0][j]-1, x[0][j]+1)\n",
    "    \n",
    "    # acceptance rejection\n",
    "    q = f(x[1])/f(x[0])\n",
    "    p = np.min([q, 1])\n",
    "    u = np.random.uniform(0, 1)\n",
    "\n",
    "    if (u < p):\n",
    "        x[0] = x[1]\n",
    "    else:\n",
    "        None\n",
    "\n",
    "    product[i] = np.prod(x[0])\n",
    "    if (product[i] > 20):\n",
    "        x1con.append(x[0][0])\n",
    "    #x1[i] = x[0][0]\n",
    "    \n",
    "#print(f\"point estimate of E[XYZ]: {np.sum(xyz[M:N])/(N-M)}\")"
   ]
  },
  {
   "cell_type": "code",
   "execution_count": 82,
   "id": "abe3ec3a",
   "metadata": {},
   "outputs": [
    {
     "data": {
      "image/png": "[encoded data removed]",
      "text/plain": [
       "<Figure size 640x480 with 1 Axes>"
      ]
     },
     "metadata": {},
     "output_type": "display_data"
    }
   ],
   "source": [
    "plt.hist(x1con, bins=10)\n",
    "plt.show()"
   ]
  },
  {
   "cell_type": "code",
   "execution_count": 83,
   "id": "f45f6f43",
   "metadata": {},
   "outputs": [
    {
     "name": "stdout",
     "output_type": "stream",
     "text": [
      "point estimate of E[XYZ]: 0.09556439276570412\n"
     ]
    }
   ],
   "source": [
    "#2A\n",
    "N = 1000000 # TIME STEPS\n",
    "M = 100 # BURN-IN\n",
    "\n",
    "def f(x, y, z):\n",
    "    return np.exp(-(x + y + z + x*y + x*z + y*z)) if (x > 0 and y > 0 and z > 0) else 0\n",
    "\n",
    "xyz = np.zeros(N)\n",
    "x = np.zeros(2)\n",
    "y = np.zeros(2)\n",
    "z = np.zeros(2)\n",
    "\n",
    "x[0], y[0], z[0] = 1, 1, 1\n",
    "xyz[0] = 1\n",
    "\n",
    "for i in range(1, N):\n",
    "    # generate new state xyz\n",
    "    x[1] = np.random.uniform(x[0] - 1, x[0] + 1)\n",
    "    y[1] = np.random.uniform(y[0] - 1, y[0] + 1)\n",
    "    z[1] = np.random.uniform(x[0] - 1, x[0] + 1)\n",
    "\n",
    "    # accept new state with probability:\n",
    "    q = f(x[1], y[1], z[1])/f(x[0], y[0], z[0])\n",
    "    p = np.min([q, 1])\n",
    "\n",
    "    u = np.random.uniform(0, 1)\n",
    "    if (u < p):\n",
    "        xyz[i] = x[1]*y[1]*z[1]\n",
    "        x[0], y[0], z[0] = x[1], y[1], z[1]\n",
    "    else:\n",
    "        xyz[i] = x[0]*y[0]*z[0]\n",
    "\n",
    "print(f\"point estimate of E[XYZ]: {np.sum(xyz[M:N])/(N-M)}\")"
   ]
  },
  {
   "cell_type": "code",
   "execution_count": 84,
   "id": "0eafd210",
   "metadata": {},
   "outputs": [
    {
     "name": "stdout",
     "output_type": "stream",
     "text": [
      "point estimate of E[XYZ]: 0.08732648322728209\n"
     ]
    }
   ],
   "source": [
    "#2B\n",
    "N = 1000000 # TIME STEPS\n",
    "M = 100 # BURN-IN\n",
    "\n",
    "# initialize data structures\n",
    "\n",
    "xyz = np.zeros((N, 3))\n",
    "xyz[0] = np.array([1, 1, 1])\n",
    "\n",
    "data = np.zeros(N)\n",
    "data[0] = np.prod(xyz[0])\n",
    "\n",
    "coord = 0\n",
    "\n",
    "for i in range(1, N):\n",
    "\n",
    "    # choose coordinate to resample\n",
    "    if (coord > 2):\n",
    "        coord = 0\n",
    "    \n",
    "    # gather last state\n",
    "    x = xyz[i-1][0]\n",
    "    y = xyz[i-1][1]\n",
    "    z = xyz[i-1][2]\n",
    "\n",
    "    if (coord == 0):\n",
    "        xyz[i][0] = np.random.exponential(1/(1 + y + z))\n",
    "        xyz[i][1] = y\n",
    "        xyz[i][2] = z\n",
    "    elif (coord == 1):\n",
    "        xyz[i][0] = x\n",
    "        xyz[i][1] = np.random.exponential(1/(1 + x + z))\n",
    "        xyz[i][2] = z\n",
    "    else:\n",
    "        xyz[i][0] = x\n",
    "        xyz[i][1] = y\n",
    "        xyz[i][2] = np.random.exponential(1/(1 + x + y))\n",
    "    \n",
    "    coord += 1\n",
    "    data[i] = np.prod(xyz[i])\n",
    "\n",
    "print(f\"point estimate of E[XYZ]: {np.sum(data[M:N])/(N-M)}\")"
   ]
  },
  {
   "cell_type": "markdown",
   "id": "850a5d33",
   "metadata": {},
   "source": [
    "3 (a)\n",
    "\n",
    "interarrival times\n",
    "- sum exponentials until reaching terminal time\n",
    "\n",
    "A = list of times\n",
    "\n",
    "t = 0, I = 0\n",
    "while t < T:\n",
    "    t += Exp(2)\n",
    "    I = I + 1\n",
    "    A(I) = t\n",
    "\n",
    "output (I-1) and A(i), i = 1,..., i-1\n",
    "\n",
    "\n",
    "conditional representation\n",
    "- simulate poisson, then distribute uniformly\n",
    "\n",
    "Generate N(T) ~ Poi(2*10)\n",
    "n = N(T).\n",
    "Generate n i.i.d. Unif(0, 1)\n",
    "Sort in increasing order\n",
    "output n and A_i = T*U_(i)."
   ]
  },
  {
   "cell_type": "code",
   "execution_count": 85,
   "id": "01d86b95",
   "metadata": {},
   "outputs": [
    {
     "name": "stdout",
     "output_type": "stream",
     "text": [
      "probability of all being busy: 0.2174 \n"
     ]
    }
   ],
   "source": [
    "# 3b\n",
    "\n",
    "N = 10000\n",
    "all_occupied = np.zeros(N)\n",
    "\n",
    "for j in range(N):\n",
    "    \n",
    "    arrivals = []\n",
    "    exits = []\n",
    "\n",
    "    t = 0\n",
    "    I = 0\n",
    "\n",
    "    while (t < 10):\n",
    "        x = np.random.exponential(1/2)\n",
    "        t += x\n",
    "        arrivals.append(x)\n",
    "        exits.append(np.random.exponential(1))\n",
    "        I += 1\n",
    "\n",
    "    arrivals = np.cumsum(arrivals)\n",
    "    exits = np.add(arrivals, exits)\n",
    "\n",
    "    i = 0\n",
    "\n",
    "    busy = set()\n",
    "\n",
    "    while (arrivals[i] < 10):\n",
    "\n",
    "        removal = []\n",
    "\n",
    "        for item in busy:\n",
    "            if (item < arrivals[i]):\n",
    "                removal.append(item)\n",
    "        \n",
    "        for item in removal:\n",
    "            busy.remove(item)\n",
    "        \n",
    "        if (len(busy) < 3):\n",
    "            busy.add(exits[i])\n",
    "            i += 1\n",
    "\n",
    "        elif (len(busy) == 3):\n",
    "            arrivals = np.delete(arrivals, i)\n",
    "            exits = np.delete(exits, i)\n",
    "\n",
    "    removal = []\n",
    "\n",
    "    for item in busy:\n",
    "        if (item < 10):\n",
    "            removal.append(item)\n",
    "\n",
    "    for item in removal:\n",
    "        busy.remove(item)\n",
    "    \n",
    "    all_occupied[j] = 1 if len(busy) == 3 else 0\n",
    "\n",
    "print(f\"probability of all being busy: {np.sum(all_occupied)/(N)} \")"
   ]
  }
 ],
 "metadata": {
  "kernelspec": {
   "display_name": "base",
   "language": "python",
   "name": "python3"
  },
  "language_info": {
   "codemirror_mode": {
    "name": "ipython",
    "version": 3
   },
   "file_extension": ".py",
   "mimetype": "text/x-python",
   "name": "python",
   "nbconvert_exporter": "python",
   "pygments_lexer": "ipython3",
   "version": "3.12.4"
  }
 },
 "nbformat": 4,
 "nbformat_minor": 5
}
