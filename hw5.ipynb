{
 "cells": [
  {
   "cell_type": "code",
   "execution_count": 43,
   "metadata": {},
   "outputs": [],
   "source": [
    "import numpy as np\n",
    "import matplotlib.pyplot as plt"
   ]
  },
  {
   "cell_type": "code",
   "execution_count": 44,
   "metadata": {},
   "outputs": [
    {
     "name": "stdout",
     "output_type": "stream",
     "text": [
      "Mean:  2.81\n",
      "CI: [ 2.645908185346241 ,  2.974091814653759 ]\n"
     ]
    }
   ],
   "source": [
    "def q1a():\n",
    "    total = 0\n",
    "    count = 0\n",
    "    while (total <= 1):\n",
    "        total += np.random.uniform(0, 1)\n",
    "        count += 1\n",
    "    return count\n",
    "\n",
    "N = 100\n",
    "result = np.zeros(N)\n",
    "for i in range(N):\n",
    "    result[i] = q1a()\n",
    "\n",
    "mean = np.sum(result)/np.size(result)\n",
    "ssr = (np.subtract(result, mean))**2\n",
    "s2 = np.sum(ssr)/(np.size(ssr) - 1)\n",
    "s = np.sqrt(s2)\n",
    "\n",
    "print(\"Mean: \", mean)\n",
    "\n",
    "left = mean - (1.96*s/np.sqrt(N))\n",
    "right = mean + (1.96*s/np.sqrt(N))\n",
    "print(\"CI: [\", left, \", \" ,right , \"]\")"
   ]
  },
  {
   "cell_type": "code",
   "execution_count": 45,
   "metadata": {},
   "outputs": [
    {
     "name": "stdout",
     "output_type": "stream",
     "text": [
      "Mean =  4.681\n",
      "CI = [ 4.657 ,  4.705 ]\n"
     ]
    }
   ],
   "source": [
    "def q1b():\n",
    "    total = 0\n",
    "    count = 0\n",
    "    while (total <= 2):\n",
    "        total += np.random.uniform(0, 1)\n",
    "        count += 1\n",
    "    return count\n",
    "\n",
    "N = 10000\n",
    "result = np.zeros(N)\n",
    "for i in range(N):\n",
    "    result[i] = q1b()\n",
    "\n",
    "mean = np.sum(result)/np.size(result)\n",
    "ssr = (np.subtract(result, mean))**2\n",
    "s2 = np.sum(ssr)/(np.size(ssr) - 1)\n",
    "s = np.sqrt(s2)\n",
    "\n",
    "print(\"Mean = \", mean)\n",
    "\n",
    "left = mean - (1.96*s/np.sqrt(N))\n",
    "right = mean + (1.96*s/np.sqrt(N))\n",
    "print(\"CI = [\", np.round(left, 3), \", \" , np.round(right, 3) , \"]\")"
   ]
  },
  {
   "cell_type": "code",
   "execution_count": 49,
   "metadata": {},
   "outputs": [
    {
     "name": "stdout",
     "output_type": "stream",
     "text": [
      "122.16666666666667\n",
      "18.275824116204355\n"
     ]
    }
   ],
   "source": [
    "# q3\n",
    "\n",
    "data = np.asarray([102, 112, 131, 107, 114, 95, 133, 145, 139, 117, 93, 111, 124, 122, 136, 141, 119, 122, 151, 143,\n",
    "130, 159, 92, 120, 114, 99, 135, 141, 125, 93])\n",
    "mean = (np.sum(data)/np.size(data))\n",
    "print(mean)\n",
    "\n",
    "deviation = np.power(np.subtract(data, mean), 2)\n",
    "s2 = np.sum(deviation)/(np.size(deviation) - 1)\n",
    "s = np.sqrt(s2)\n",
    "print(s)"
   ]
  },
  {
   "cell_type": "code",
   "execution_count": 47,
   "metadata": {},
   "outputs": [
    {
     "name": "stdout",
     "output_type": "stream",
     "text": [
      "5.5\n",
      "Mean =  0.7\n",
      "CI =  0.5579845078873434 0.8420154921126565\n"
     ]
    }
   ],
   "source": [
    "# q4\n",
    "\n",
    "data = np.asarray([2,2,2,2,2,2,2,2,2,2,2,\n",
    "                   4,4,4,4,4,\n",
    "                   5,5,5,5,5,5,5,5,5,5,\n",
    "                   6,6,\n",
    "                   8,8,8,8,8,8,8,\n",
    "                   9,9,9,9,\n",
    "                   24])\n",
    "\n",
    "mean = np.sum(data)/np.size(data)\n",
    "print(mean)\n",
    "\n",
    "new = np.zeros(40)\n",
    "for i in range(40):\n",
    "    new[i] = (1 if (data[i] - 1)**2 < 30 else 0)\n",
    "\n",
    "mu = np.sum(new)/np.size(new)\n",
    "var = mu * (1 - mu)\n",
    "left = mu - 1.96*(np.sqrt(var/40))\n",
    "right = mu + 1.96*(np.sqrt(var/40))\n",
    "\n",
    "print(\"Mean = \", mu)\n",
    "print(\"CI = \", left, right)"
   ]
  },
  {
   "cell_type": "code",
   "execution_count": 48,
   "metadata": {},
   "outputs": [
    {
     "name": "stdout",
     "output_type": "stream",
     "text": [
      "180.0314226958581\n"
     ]
    }
   ],
   "source": [
    "# q5\n",
    "\n",
    "data = np.asarray([5, 4, 9, 6, 21, 12, 7, 14, 17, 11, 20, 7, 10, 21, 15, 26, 9, 13, 8, 6])\n",
    "y = np.power(data, 2)\n",
    "mean = np.sum(y)/np.size(y)\n",
    "\n",
    "#sr = np.power(np.subtract(y, mean), 2)\n",
    "sr = np.subtract(y, mean)**2\n",
    "var = np.sum(sr)/(np.size(y) - 1)\n",
    "s = np.sqrt(var)\n",
    "print(s)"
   ]
  }
 ],
 "metadata": {
  "kernelspec": {
   "display_name": "base",
   "language": "python",
   "name": "python3"
  },
  "language_info": {
   "codemirror_mode": {
    "name": "ipython",
    "version": 3
   },
   "file_extension": ".py",
   "mimetype": "text/x-python",
   "name": "python",
   "nbconvert_exporter": "python",
   "pygments_lexer": "ipython3",
   "version": "3.12.4"
  }
 },
 "nbformat": 4,
 "nbformat_minor": 2
}
