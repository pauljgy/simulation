{
 "cells": [
  {
   "cell_type": "code",
   "execution_count": 46,
   "id": "f2d82bef",
   "metadata": {},
   "outputs": [],
   "source": [
    "import numpy as np\n",
    "import math"
   ]
  },
  {
   "cell_type": "code",
   "execution_count": 47,
   "id": "01019b3d",
   "metadata": {},
   "outputs": [
    {
     "name": "stdout",
     "output_type": "stream",
     "text": [
      "0.0005217965809231473\n"
     ]
    }
   ],
   "source": [
    "#1a\n",
    "\n",
    "N = 1000\n",
    "\n",
    "sum = 0\n",
    "for i in range(N):\n",
    "    q = np.random.gamma(10, 1)\n",
    "    sum += 0 if (q <= 10) else (math.factorial(9)/(np.power(q, 8)))\n",
    "\n",
    "print(sum/N)"
   ]
  },
  {
   "cell_type": "code",
   "execution_count": 48,
   "id": "f4430f2b",
   "metadata": {},
   "outputs": [
    {
     "name": "stdout",
     "output_type": "stream",
     "text": [
      "0.0004957303183966247\n"
     ]
    }
   ],
   "source": [
    "#1b\n",
    "sum = 0\n",
    "for i in range(N):\n",
    "    q = np.random.gamma(2, 5)\n",
    "    sum += 0 if (q <= 10) else (25 * np.exp(-0.8 * q))\n",
    "\n",
    "print(sum/N)"
   ]
  },
  {
   "cell_type": "code",
   "execution_count": 49,
   "id": "f8c347ae",
   "metadata": {},
   "outputs": [
    {
     "name": "stdout",
     "output_type": "stream",
     "text": [
      "0.0005135565785659533\n"
     ]
    }
   ],
   "source": [
    "#1c\n",
    "sum = 0\n",
    "for i in range(N):\n",
    "    q = np.random.gamma(2, 1) + 10\n",
    "    sum += 0 if (q <= 10) else (q/((q-10) * np.power(np.e, 10)) )\n",
    "\n",
    "print(sum/N)"
   ]
  },
  {
   "cell_type": "code",
   "execution_count": 50,
   "id": "64cf3376",
   "metadata": {},
   "outputs": [
    {
     "name": "stdout",
     "output_type": "stream",
     "text": [
      "34.111359131972165\n",
      "3.0400098876004047\n"
     ]
    }
   ],
   "source": [
    "#2a\n",
    "R = 100\n",
    "data = np.zeros(R)\n",
    "N = 11\n",
    "\n",
    "for j in range(R): \n",
    "\n",
    "    X = np.zeros(N+1)\n",
    "    S = np.zeros(N+1)\n",
    "    W = np.zeros(N+1)\n",
    "\n",
    "    for i in range(1, N+1):\n",
    "        X[i], S[i] = np.random.exponential(1/2), np.random.exponential(1)\n",
    "\n",
    "    for i in range(1, N+1):\n",
    "        W[i] = max(0, W[i-1] + S[i-1] - X[i])\n",
    "\n",
    "    T = np.add(S, W)\n",
    "    data[j] = np.sum(T[1:11])\n",
    "\n",
    "print(np.sum(data)/R)\n",
    "print(np.var(data)/R)"
   ]
  },
  {
   "cell_type": "code",
   "execution_count": 51,
   "id": "231a85d2",
   "metadata": {},
   "outputs": [
    {
     "name": "stdout",
     "output_type": "stream",
     "text": [
      "36.36076385547667\n",
      "1.058618036801817\n"
     ]
    }
   ],
   "source": [
    "#2b \n",
    "R = 100\n",
    "Y = np.zeros(R)\n",
    "Z = np.zeros(R)\n",
    "\n",
    "N = 11\n",
    "for j in range(R): \n",
    "\n",
    "    X = np.zeros(N+1)\n",
    "    S = np.zeros(N+1)\n",
    "    W = np.zeros(N+1)\n",
    "\n",
    "    for i in range(1, N+1):\n",
    "        X[i], S[i] = np.random.exponential(1/2), np.random.exponential(1)\n",
    "\n",
    "    for i in range(1, N+1):\n",
    "        W[i] = max(0, W[i-1] + S[i-1] - X[i])\n",
    "\n",
    "    T = np.add(S, W)\n",
    "    Y[j] = np.sum(T[1:11])\n",
    "    Z[j] = np.sum(S[1:11])\n",
    "\n",
    "cov = np.cov(Y, Z)\n",
    "covYZ = cov[0][1]\n",
    "varZ = cov[1][1]\n",
    "beta = covYZ/varZ\n",
    "\n",
    "newY = Y - beta * (Z - 10)\n",
    "print(np.sum(newY)/R)\n",
    "print(np.var(newY)/R)"
   ]
  },
  {
   "cell_type": "code",
   "execution_count": 52,
   "id": "1003c4ed",
   "metadata": {},
   "outputs": [
    {
     "name": "stdout",
     "output_type": "stream",
     "text": [
      "35.33649986113717\n",
      "0.6747646501831642\n"
     ]
    }
   ],
   "source": [
    "#2c\n",
    "R = 100\n",
    "Y = np.zeros(R)\n",
    "Z = np.zeros(R)\n",
    "\n",
    "N = 11\n",
    "for j in range(R): \n",
    "\n",
    "    X = np.zeros(N+1)\n",
    "    S = np.zeros(N+1)\n",
    "    W = np.zeros(N+1)\n",
    "\n",
    "    for i in range(1, N+1):\n",
    "        X[i], S[i] = np.random.exponential(1/2), np.random.exponential(1)\n",
    "\n",
    "    for i in range(1, N+1):\n",
    "        W[i] = max(0, W[i-1] + S[i-1] - X[i])\n",
    "\n",
    "    T = np.add(S, W)\n",
    "    Y[j] = np.sum(T[1:11])\n",
    "    Z[j] = np.sum(S[1:11]) - np.sum(X[2:12])\n",
    "\n",
    "cov = np.cov(Y, Z)\n",
    "covYZ = cov[0][1]\n",
    "varZ = cov[1][1]\n",
    "beta = covYZ/varZ\n",
    "\n",
    "newY = Y - beta * (Z - 5)\n",
    "print(np.sum(newY)/R)\n",
    "print(np.var(newY)/R)"
   ]
  },
  {
   "cell_type": "code",
   "execution_count": 53,
   "id": "38f76a5c",
   "metadata": {},
   "outputs": [
    {
     "name": "stdout",
     "output_type": "stream",
     "text": [
      "0.05\n",
      "variance per replication = 0.00047500000000000005\n"
     ]
    }
   ],
   "source": [
    "# 3a\n",
    "\n",
    "M = 100\n",
    "extreme_loss = np.zeros(M)\n",
    "\n",
    "N = 100\n",
    "for i in range(M):\n",
    "    defaults = np.zeros(N)\n",
    "    losses = np.zeros(N)\n",
    "\n",
    "    p = np.random.beta(1, 19)\n",
    "    for j in range(N):\n",
    "        defaults[j] = 1 if (np.random.uniform(0, 1) < p) else 0\n",
    "        losses[j] = np.random.normal(3, 1)\n",
    "    \n",
    "    total_loss = np.sum(np.multiply(defaults, losses))\n",
    "    extreme_loss[i] = 1 if (total_loss > 45) else 0\n",
    "\n",
    "prob = np.sum(extreme_loss)/M\n",
    "print(prob)\n",
    "print(f\"variance per replication = {np.var(extreme_loss)/M}\")"
   ]
  },
  {
   "cell_type": "code",
   "execution_count": 54,
   "id": "46c46440",
   "metadata": {},
   "outputs": [
    {
     "name": "stdout",
     "output_type": "stream",
     "text": [
      "0.04\n",
      "variance per replication = 0.00038399999999999996\n"
     ]
    }
   ],
   "source": [
    "extreme_loss = np.zeros(M)\n",
    "\n",
    "N = 100\n",
    "for i in range(M):\n",
    "\n",
    "    p = np.random.beta(1, 19)\n",
    "    d = np.random.binomial(N, p)\n",
    "    total_loss = np.random.normal(3 * d, np.sqrt(d))\n",
    "    extreme_loss[i] = 1 if (total_loss > 45) else 0\n",
    "\n",
    "prob = np.sum(extreme_loss)/M\n",
    "print(prob)\n",
    "print(f\"variance per replication = {np.var(extreme_loss)/M}\")"
   ]
  },
  {
   "cell_type": "code",
   "execution_count": 58,
   "id": "5f85cc61",
   "metadata": {},
   "outputs": [
    {
     "name": "stdout",
     "output_type": "stream",
     "text": [
      "0.08\n",
      "variance per replication = 0.000736\n"
     ]
    }
   ],
   "source": [
    "extreme_loss = np.zeros(M)\n",
    "\n",
    "N = 100\n",
    "for i in range(M):\n",
    "\n",
    "    p = np.random.beta(1, 19)\n",
    "    d = np.random.binomial(N, p)\n",
    "    while (d == 0):\n",
    "        d = np.random.binomial(N, p)\n",
    "    extreme_loss[i] = 1 if (np.random.normal(3, 1) >= 45/d) else 0\n",
    "\n",
    "prob = np.sum(extreme_loss)/M\n",
    "print(prob)\n",
    "print(f\"variance per replication = {np.var(extreme_loss)/M}\")"
   ]
  }
 ],
 "metadata": {
  "kernelspec": {
   "display_name": "base",
   "language": "python",
   "name": "python3"
  },
  "language_info": {
   "codemirror_mode": {
    "name": "ipython",
    "version": 3
   },
   "file_extension": ".py",
   "mimetype": "text/x-python",
   "name": "python",
   "nbconvert_exporter": "python",
   "pygments_lexer": "ipython3",
   "version": "3.12.4"
  }
 },
 "nbformat": 4,
 "nbformat_minor": 5
}
